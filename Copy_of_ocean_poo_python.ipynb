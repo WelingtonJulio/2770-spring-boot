{
  "nbformat": 4,
  "nbformat_minor": 0,
  "metadata": {
    "colab": {
      "provenance": [],
      "include_colab_link": true
    },
    "kernelspec": {
      "name": "python3",
      "display_name": "Python 3"
    },
    "language_info": {
      "name": "python"
    }
  },
  "cells": [
    {
      "cell_type": "markdown",
      "metadata": {
        "id": "view-in-github",
        "colab_type": "text"
      },
      "source": [
        "<a href=\"https://colab.research.google.com/github/WelingtonJulio/2770-spring-boot/blob/main/Copy_of_ocean_poo_python.ipynb\" target=\"_parent\"><img src=\"https://colab.research.google.com/assets/colab-badge.svg\" alt=\"Open In Colab\"/></a>"
      ]
    },
    {
      "cell_type": "markdown",
      "source": [
        "# Orientação  a objetos em Python"
      ],
      "metadata": {
        "id": "iCXg7HfAXTHO"
      }
    },
    {
      "cell_type": "markdown",
      "source": [
        "## Contexto Histórico e Principais conceitos"
      ],
      "metadata": {
        "id": "Q3P8qyTctv6H"
      }
    },
    {
      "cell_type": "markdown",
      "source": [
        "Binario -> Montagem > Fortran -> Estruturada -> orientação a objetos -> funcional"
      ],
      "metadata": {
        "id": "rod2_G2VY6VS"
      }
    },
    {
      "cell_type": "markdown",
      "source": [
        "## Objetos e Classes"
      ],
      "metadata": {
        "id": "zXoPNJWOt9oD"
      }
    },
    {
      "cell_type": "code",
      "source": [
        "inteiro = 8\n",
        "inteiro2 = 17\n",
        "inteiro3 = 8\n",
        "flutuante = 3.1415\n",
        "string = \"\"\n",
        "lista = []\n",
        "dicionario = {}\n",
        "\n",
        "print(type(inteiro))\n",
        "print(type(flutuante))\n",
        "print(type(string))\n",
        "print(type(lista))\n",
        "print(type(dicionario))"
      ],
      "metadata": {
        "id": "PsvShh1Zq2rx",
        "colab": {
          "base_uri": "https://localhost:8080/"
        },
        "outputId": "c8b08bc6-ef8c-4438-c669-2ae452063c72"
      },
      "execution_count": null,
      "outputs": [
        {
          "output_type": "stream",
          "name": "stdout",
          "text": [
            "<class 'int'>\n",
            "<class 'float'>\n",
            "<class 'str'>\n",
            "<class 'list'>\n",
            "<class 'dict'>\n"
          ]
        }
      ]
    },
    {
      "cell_type": "code",
      "source": [
        "print(type(_))"
      ],
      "metadata": {
        "colab": {
          "base_uri": "https://localhost:8080/"
        },
        "id": "twxKckmI6MWm",
        "outputId": "0b1b874e-6cd7-4b24-a305-8658c8bfa4d0"
      },
      "execution_count": null,
      "outputs": [
        {
          "output_type": "stream",
          "name": "stdout",
          "text": [
            "<class 'str'>\n"
          ]
        }
      ]
    },
    {
      "cell_type": "code",
      "source": [
        "print(type(int))\n",
        "print(type(float))\n",
        "print(type(str))\n",
        "print(type(list))\n",
        "print(type(dict))"
      ],
      "metadata": {
        "colab": {
          "base_uri": "https://localhost:8080/"
        },
        "id": "45543FKnrtop",
        "outputId": "3593e61a-63d2-485d-a1e6-0cd3b8b81722"
      },
      "execution_count": null,
      "outputs": [
        {
          "output_type": "stream",
          "name": "stdout",
          "text": [
            "<class 'type'>\n",
            "<class 'type'>\n",
            "<class 'type'>\n",
            "<class 'type'>\n",
            "<class 'type'>\n"
          ]
        }
      ]
    },
    {
      "cell_type": "code",
      "source": [
        "print(type(type(type(5))))"
      ],
      "metadata": {
        "colab": {
          "base_uri": "https://localhost:8080/"
        },
        "id": "Aq-eB4gO7AGL",
        "outputId": "8f4fd69c-84a6-4ba2-cb72-4f7d75ee3ea6"
      },
      "execution_count": null,
      "outputs": [
        {
          "output_type": "stream",
          "name": "stdout",
          "text": [
            "<class 'type'>\n"
          ]
        }
      ]
    },
    {
      "cell_type": "code",
      "source": [
        "print(type(type))"
      ],
      "metadata": {
        "colab": {
          "base_uri": "https://localhost:8080/"
        },
        "id": "Qh6kT3z18Kow",
        "outputId": "b8c93446-a9c0-4872-8f4e-e62e466c4a99"
      },
      "execution_count": null,
      "outputs": [
        {
          "output_type": "stream",
          "name": "stdout",
          "text": [
            "<class 'type'>\n"
          ]
        }
      ]
    },
    {
      "cell_type": "code",
      "source": [],
      "metadata": {
        "colab": {
          "base_uri": "https://localhost:8080/"
        },
        "id": "PrTJ65fr8VXt",
        "outputId": "f66a556a-dbaa-4d1a-d247-9a873824ce95"
      },
      "execution_count": null,
      "outputs": [
        {
          "output_type": "execute_result",
          "data": {
            "text/plain": [
              "5"
            ]
          },
          "metadata": {},
          "execution_count": 12
        }
      ]
    },
    {
      "cell_type": "code",
      "source": [
        "print(type(type(print)))"
      ],
      "metadata": {
        "colab": {
          "base_uri": "https://localhost:8080/"
        },
        "id": "ry-lddbh8dEd",
        "outputId": "742ac4c4-d4d7-412a-cd2b-7a660521d00e"
      },
      "execution_count": null,
      "outputs": [
        {
          "output_type": "stream",
          "name": "stdout",
          "text": [
            "<class 'type'>\n"
          ]
        }
      ]
    },
    {
      "cell_type": "code",
      "source": [
        "print(type([].append))"
      ],
      "metadata": {
        "colab": {
          "base_uri": "https://localhost:8080/"
        },
        "id": "M4P0ssYg8u6c",
        "outputId": "9b22877e-e271-4a6a-de7c-86c34793b4c5"
      },
      "execution_count": null,
      "outputs": [
        {
          "output_type": "stream",
          "name": "stdout",
          "text": [
            "<class 'builtin_function_or_method'>\n"
          ]
        }
      ]
    },
    {
      "cell_type": "code",
      "source": [
        "print()"
      ],
      "metadata": {
        "id": "_eGTO6uY9ILH"
      },
      "execution_count": null,
      "outputs": []
    },
    {
      "cell_type": "code",
      "source": [
        "print(type(class))"
      ],
      "metadata": {
        "colab": {
          "base_uri": "https://localhost:8080/",
          "height": 106
        },
        "id": "WNevbF2dA_YR",
        "outputId": "a7df43ea-870f-48f9-c3d7-e0ca637463e7"
      },
      "execution_count": null,
      "outputs": [
        {
          "output_type": "error",
          "ename": "SyntaxError",
          "evalue": "invalid syntax (<ipython-input-16-516dd05a379c>, line 1)",
          "traceback": [
            "\u001b[0;36m  File \u001b[0;32m\"<ipython-input-16-516dd05a379c>\"\u001b[0;36m, line \u001b[0;32m1\u001b[0m\n\u001b[0;31m    print(type(class))\u001b[0m\n\u001b[0m               ^\u001b[0m\n\u001b[0;31mSyntaxError\u001b[0m\u001b[0;31m:\u001b[0m invalid syntax\n"
          ]
        }
      ]
    },
    {
      "cell_type": "markdown",
      "source": [
        "### Definindo classes e criando objetos"
      ],
      "metadata": {
        "id": "B6-O-zeAsmdw"
      }
    },
    {
      "cell_type": "code",
      "source": [
        "class MinhaClasse:\n",
        "  pass"
      ],
      "metadata": {
        "id": "Ppt9_QDwss3n"
      },
      "execution_count": null,
      "outputs": []
    },
    {
      "cell_type": "code",
      "source": [
        "teste = MinhaClasse()"
      ],
      "metadata": {
        "id": "VQYssb2psyJ7"
      },
      "execution_count": null,
      "outputs": []
    },
    {
      "cell_type": "code",
      "source": [
        "print(teste)"
      ],
      "metadata": {
        "colab": {
          "base_uri": "https://localhost:8080/"
        },
        "id": "ksCt_RUTV-eb",
        "outputId": "c60cc974-6964-4696-ef83-82f94e91bb30"
      },
      "execution_count": null,
      "outputs": [
        {
          "output_type": "stream",
          "name": "stdout",
          "text": [
            "<__main__.MinhaClasse object at 0x7a4319c591b0>\n"
          ]
        }
      ]
    },
    {
      "cell_type": "code",
      "source": [
        "print(type(teste))"
      ],
      "metadata": {
        "colab": {
          "base_uri": "https://localhost:8080/"
        },
        "id": "2CWf261dCp9A",
        "outputId": "6c99b58b-1806-47a3-8c28-c862fa09eaea"
      },
      "execution_count": null,
      "outputs": [
        {
          "output_type": "stream",
          "name": "stdout",
          "text": [
            "<class '__main__.MinhaClasse'>\n"
          ]
        }
      ]
    },
    {
      "cell_type": "code",
      "source": [
        "from minha_classe import MinhaClasse"
      ],
      "metadata": {
        "id": "PPlzv4TZDLV_"
      },
      "execution_count": null,
      "outputs": []
    },
    {
      "cell_type": "code",
      "source": [
        "teste = MinhaClasse()"
      ],
      "metadata": {
        "id": "TiVdu7jMDLhe"
      },
      "execution_count": null,
      "outputs": []
    },
    {
      "cell_type": "code",
      "source": [
        "print(type(teste))"
      ],
      "metadata": {
        "colab": {
          "base_uri": "https://localhost:8080/"
        },
        "id": "to0N5n6_DYB6",
        "outputId": "76a18916-1585-46f0-8f2b-9b64e6f5d19d"
      },
      "execution_count": null,
      "outputs": [
        {
          "output_type": "stream",
          "name": "stdout",
          "text": [
            "<class 'minha_classe.MinhaClasse'>\n"
          ]
        }
      ]
    },
    {
      "cell_type": "code",
      "source": [
        "m1 = MinhaClasse()\n",
        "m2 = MinhaClasse()"
      ],
      "metadata": {
        "id": "hxxDOQt1EqIB"
      },
      "execution_count": null,
      "outputs": []
    },
    {
      "cell_type": "code",
      "source": [
        "m3 = m1"
      ],
      "metadata": {
        "id": "lcOu2cydEqUN"
      },
      "execution_count": null,
      "outputs": []
    },
    {
      "cell_type": "code",
      "source": [
        "print(m1, m3)"
      ],
      "metadata": {
        "colab": {
          "base_uri": "https://localhost:8080/"
        },
        "id": "umwrSisTEqeM",
        "outputId": "e88aa6a6-6cc3-47c2-b25d-b2bee959b99b"
      },
      "execution_count": null,
      "outputs": [
        {
          "output_type": "stream",
          "name": "stdout",
          "text": [
            "<minha_classe.MinhaClasse object at 0x7a4319c58310> <minha_classe.MinhaClasse object at 0x7a4319c59db0>\n"
          ]
        }
      ]
    },
    {
      "cell_type": "code",
      "source": [
        "import math"
      ],
      "metadata": {
        "id": "ert5UmK5FMfD"
      },
      "execution_count": null,
      "outputs": []
    },
    {
      "cell_type": "code",
      "source": [
        "math.pi = 8"
      ],
      "metadata": {
        "id": "PrND07T9FMks"
      },
      "execution_count": null,
      "outputs": []
    },
    {
      "cell_type": "code",
      "source": [
        "math.pi"
      ],
      "metadata": {
        "colab": {
          "base_uri": "https://localhost:8080/"
        },
        "id": "ojV4lImjIIDB",
        "outputId": "8dbc2c27-9f94-4726-a2b7-dd1c2941bfcc"
      },
      "execution_count": null,
      "outputs": [
        {
          "output_type": "execute_result",
          "data": {
            "text/plain": [
              "3.141592653589793"
            ]
          },
          "metadata": {},
          "execution_count": 2
        }
      ]
    },
    {
      "cell_type": "code",
      "source": [
        "print(type(object))"
      ],
      "metadata": {
        "colab": {
          "base_uri": "https://localhost:8080/"
        },
        "id": "nPXCJ4Q6JRkC",
        "outputId": "21013395-6c38-457f-8641-716a4d4bf951"
      },
      "execution_count": null,
      "outputs": [
        {
          "output_type": "stream",
          "name": "stdout",
          "text": [
            "<class 'type'>\n"
          ]
        }
      ]
    },
    {
      "cell_type": "markdown",
      "source": [
        "\n",
        " ."
      ],
      "metadata": {
        "id": "Ubiz30TFguk0"
      }
    },
    {
      "cell_type": "code",
      "source": [
        "print(type(type(math)))"
      ],
      "metadata": {
        "colab": {
          "base_uri": "https://localhost:8080/"
        },
        "id": "Vyz8rCz4I0ZS",
        "outputId": "e9c24c56-0e57-4a30-fd4c-eee1cff7a59c"
      },
      "execution_count": null,
      "outputs": [
        {
          "output_type": "stream",
          "name": "stdout",
          "text": [
            "<class 'type'>\n"
          ]
        }
      ]
    },
    {
      "cell_type": "code",
      "source": [
        "a = int()\n",
        "print(a, type(a))"
      ],
      "metadata": {
        "colab": {
          "base_uri": "https://localhost:8080/"
        },
        "id": "gL0JWY3awvoi",
        "outputId": "552a4ea5-ef54-4418-e077-bf01cc07c9ed"
      },
      "execution_count": null,
      "outputs": [
        {
          "output_type": "stream",
          "name": "stdout",
          "text": [
            "0 <class 'int'>\n"
          ]
        }
      ]
    },
    {
      "cell_type": "code",
      "source": [
        "b = str()\n",
        "print(b, type(b))"
      ],
      "metadata": {
        "colab": {
          "base_uri": "https://localhost:8080/"
        },
        "id": "isHohbmzYdnk",
        "outputId": "cad125a6-3cc8-4663-a3c9-288ca8770ba2"
      },
      "execution_count": null,
      "outputs": [
        {
          "output_type": "stream",
          "name": "stdout",
          "text": [
            " <class 'str'>\n"
          ]
        }
      ]
    },
    {
      "cell_type": "code",
      "source": [
        "c = dict()\n",
        "print(c, type(c))"
      ],
      "metadata": {
        "colab": {
          "base_uri": "https://localhost:8080/"
        },
        "id": "76_DjWAAwv4s",
        "outputId": "590b1313-ccaa-49e3-adb2-bccc464eb8b2"
      },
      "execution_count": null,
      "outputs": [
        {
          "output_type": "stream",
          "name": "stdout",
          "text": [
            "{} <class 'dict'>\n"
          ]
        }
      ]
    },
    {
      "cell_type": "code",
      "source": [
        "d = list()\n",
        "print(d, type(d))"
      ],
      "metadata": {
        "colab": {
          "base_uri": "https://localhost:8080/"
        },
        "id": "PFeA9nLUYk1G",
        "outputId": "33870d84-c9af-4cb2-8b58-8a0df14bf8ec"
      },
      "execution_count": null,
      "outputs": [
        {
          "output_type": "stream",
          "name": "stdout",
          "text": [
            "[] <class 'list'>\n"
          ]
        }
      ]
    },
    {
      "cell_type": "markdown",
      "source": [
        "## Atributos e metodos"
      ],
      "metadata": {
        "id": "Ctts43dIg3ts"
      }
    },
    {
      "cell_type": "code",
      "source": [
        "def poe_exclamacao(string):\n",
        "  return string + \"!\""
      ],
      "metadata": {
        "id": "zKA7QqhYuT-o"
      },
      "execution_count": null,
      "outputs": []
    },
    {
      "cell_type": "code",
      "source": [
        "saudacao = \"bom dia\""
      ],
      "metadata": {
        "id": "h8r6dYPpuXzr"
      },
      "execution_count": null,
      "outputs": []
    },
    {
      "cell_type": "code",
      "source": [
        "poe_exclamacao(saudacao)"
      ],
      "metadata": {
        "colab": {
          "base_uri": "https://localhost:8080/",
          "height": 35
        },
        "id": "kw2gWO2kuZLr",
        "outputId": "740a38c7-5957-4dce-934a-63062f1d539b"
      },
      "execution_count": null,
      "outputs": [
        {
          "output_type": "execute_result",
          "data": {
            "text/plain": [
              "'bom dia!'"
            ],
            "application/vnd.google.colaboratory.intrinsic+json": {
              "type": "string"
            }
          },
          "metadata": {},
          "execution_count": 11
        }
      ]
    },
    {
      "cell_type": "code",
      "source": [
        "nome = 61"
      ],
      "metadata": {
        "id": "cWMzK6e5djOM"
      },
      "execution_count": null,
      "outputs": []
    },
    {
      "cell_type": "code",
      "source": [
        "nome.bit_length()"
      ],
      "metadata": {
        "colab": {
          "base_uri": "https://localhost:8080/"
        },
        "id": "wkDNEmabdjfG",
        "outputId": "9258f0a6-ef2f-4a3f-96d2-10fc236ce1be"
      },
      "execution_count": null,
      "outputs": [
        {
          "output_type": "execute_result",
          "data": {
            "text/plain": [
              "6"
            ]
          },
          "metadata": {},
          "execution_count": 26
        }
      ]
    },
    {
      "cell_type": "code",
      "source": [],
      "metadata": {
        "colab": {
          "base_uri": "https://localhost:8080/",
          "height": 106
        },
        "id": "-Q6XTwN-K6xs",
        "outputId": "485b1a6e-803d-4d60-f091-3d777a0ef43f"
      },
      "execution_count": null,
      "outputs": [
        {
          "output_type": "error",
          "ename": "SyntaxError",
          "evalue": "invalid syntax (<ipython-input-2-8641caa6534c>, line 1)",
          "traceback": [
            "\u001b[0;36m  File \u001b[0;32m\"<ipython-input-2-8641caa6534c>\"\u001b[0;36m, line \u001b[0;32m1\u001b[0m\n\u001b[0;31m    type(pass)\u001b[0m\n\u001b[0m         ^\u001b[0m\n\u001b[0;31mSyntaxError\u001b[0m\u001b[0;31m:\u001b[0m invalid syntax\n"
          ]
        }
      ]
    },
    {
      "cell_type": "code",
      "source": [
        "lista = []\n",
        "lista.append(\"ola\") # append(lista, \"ola\")\n",
        "print(lista)"
      ],
      "metadata": {
        "colab": {
          "base_uri": "https://localhost:8080/"
        },
        "id": "3RGi2zttesH1",
        "outputId": "fb7b6de8-5c58-4427-f6a3-c783a6fee7c9"
      },
      "execution_count": null,
      "outputs": [
        {
          "output_type": "stream",
          "name": "stdout",
          "text": [
            "['ola']\n"
          ]
        }
      ]
    },
    {
      "cell_type": "code",
      "source": [],
      "metadata": {
        "id": "dxgFaD9XK5hl"
      },
      "execution_count": null,
      "outputs": []
    },
    {
      "cell_type": "code",
      "source": [
        "class MinhaClasse:\n",
        "  pass"
      ],
      "metadata": {
        "id": "7E8ozxpv0aZD"
      },
      "execution_count": null,
      "outputs": []
    },
    {
      "cell_type": "code",
      "source": [
        "def soma(n1, n2):\n",
        "  return n1+n2"
      ],
      "metadata": {
        "id": "Pr4_8sWI0hxR"
      },
      "execution_count": null,
      "outputs": []
    },
    {
      "cell_type": "code",
      "source": [
        "a = MinhaClasse()"
      ],
      "metadata": {
        "id": "f1Kr9MUM1Qlj"
      },
      "execution_count": null,
      "outputs": []
    },
    {
      "cell_type": "code",
      "source": [
        "a.metodo_soma = soma"
      ],
      "metadata": {
        "id": "6uBeSMCo1of3"
      },
      "execution_count": null,
      "outputs": []
    },
    {
      "cell_type": "code",
      "source": [
        "a.metodo_soma(3,6)"
      ],
      "metadata": {
        "colab": {
          "base_uri": "https://localhost:8080/"
        },
        "id": "pArdDmWh2AP-",
        "outputId": "5f207b93-bfb3-4c5f-dbad-69739d230780"
      },
      "execution_count": null,
      "outputs": [
        {
          "output_type": "execute_result",
          "data": {
            "text/plain": [
              "9"
            ]
          },
          "metadata": {},
          "execution_count": 13
        }
      ]
    },
    {
      "cell_type": "code",
      "source": [
        "a.valor = \"teste\""
      ],
      "metadata": {
        "id": "iT03elzv2ha9"
      },
      "execution_count": null,
      "outputs": []
    },
    {
      "cell_type": "code",
      "source": [
        "a.valor"
      ],
      "metadata": {
        "colab": {
          "base_uri": "https://localhost:8080/",
          "height": 35
        },
        "id": "tKhi7-GA2oec",
        "outputId": "3b39e997-22c7-4ab7-a139-ccb7a4c4dbd0"
      },
      "execution_count": null,
      "outputs": [
        {
          "output_type": "execute_result",
          "data": {
            "text/plain": [
              "'teste'"
            ],
            "application/vnd.google.colaboratory.intrinsic+json": {
              "type": "string"
            }
          },
          "metadata": {},
          "execution_count": 20
        }
      ]
    },
    {
      "cell_type": "code",
      "source": [
        "a.cpf"
      ],
      "metadata": {
        "colab": {
          "base_uri": "https://localhost:8080/"
        },
        "id": "TwzLFkyZ3vja",
        "outputId": "784d520c-444a-427d-9ea4-acfd68eb7ff4"
      },
      "execution_count": null,
      "outputs": [
        {
          "output_type": "execute_result",
          "data": {
            "text/plain": [
              "123456"
            ]
          },
          "metadata": {},
          "execution_count": 28
        }
      ]
    },
    {
      "cell_type": "code",
      "source": [
        "c = {}\n",
        "c['metodo_soma'] = soma\n",
        "c['valor'] = 'teste'\n",
        "c['cpf'] = 12345\n",
        "c[3] = 'isso eh um numero'"
      ],
      "metadata": {
        "id": "QjOdQutY2wOC"
      },
      "execution_count": null,
      "outputs": []
    },
    {
      "cell_type": "code",
      "source": [
        "c[3] # a.metodo_soma(3,5)"
      ],
      "metadata": {
        "colab": {
          "base_uri": "https://localhost:8080/",
          "height": 35
        },
        "id": "VoDnSip34D6D",
        "outputId": "483791c4-edc6-4bea-ef75-45bf564440b1"
      },
      "execution_count": null,
      "outputs": [
        {
          "output_type": "execute_result",
          "data": {
            "text/plain": [
              "'isso eh um numero'"
            ],
            "application/vnd.google.colaboratory.intrinsic+json": {
              "type": "string"
            }
          },
          "metadata": {},
          "execution_count": 35
        }
      ]
    },
    {
      "cell_type": "code",
      "source": [
        "a.3 = 'isso eh um numero'"
      ],
      "metadata": {
        "colab": {
          "base_uri": "https://localhost:8080/",
          "height": 106
        },
        "id": "1tR3yGiB9Vw-",
        "outputId": "cdd08782-54f2-4003-f23b-ba90dbdbccf1"
      },
      "execution_count": null,
      "outputs": [
        {
          "output_type": "error",
          "ename": "SyntaxError",
          "evalue": "invalid syntax (<ipython-input-36-0b1e6a0f8801>, line 1)",
          "traceback": [
            "\u001b[0;36m  File \u001b[0;32m\"<ipython-input-36-0b1e6a0f8801>\"\u001b[0;36m, line \u001b[0;32m1\u001b[0m\n\u001b[0;31m    a.3 = 'isso eh um numero'\u001b[0m\n\u001b[0m     ^\u001b[0m\n\u001b[0;31mSyntaxError\u001b[0m\u001b[0;31m:\u001b[0m invalid syntax\n"
          ]
        }
      ]
    },
    {
      "cell_type": "code",
      "source": [
        "print(type(a), type(b))"
      ],
      "metadata": {
        "colab": {
          "base_uri": "https://localhost:8080/"
        },
        "id": "OKZEnepW4acE",
        "outputId": "aada9c84-ac53-4bf9-ac3e-7596ac19907a"
      },
      "execution_count": null,
      "outputs": [
        {
          "output_type": "stream",
          "name": "stdout",
          "text": [
            "<class '__main__.MinhaClasse'> <class '__main__.MinhaClasse'>\n"
          ]
        }
      ]
    },
    {
      "cell_type": "markdown",
      "source": [
        "Criando atributos e metodos na minha classe"
      ],
      "metadata": {
        "id": "DdeX_MElhb5I"
      }
    },
    {
      "cell_type": "code",
      "source": [
        "teste.valor"
      ],
      "metadata": {
        "colab": {
          "base_uri": "https://localhost:8080/"
        },
        "id": "8HJ6_DaQjHJz",
        "outputId": "03bf1473-53a6-453b-956a-5870f472f5f4"
      },
      "execution_count": null,
      "outputs": [
        {
          "output_type": "execute_result",
          "data": {
            "text/plain": [
              "1"
            ]
          },
          "metadata": {},
          "execution_count": 25
        }
      ]
    },
    {
      "cell_type": "code",
      "source": [
        "teste.valor = 5\n",
        "print(teste.valor)"
      ],
      "metadata": {
        "colab": {
          "base_uri": "https://localhost:8080/"
        },
        "id": "RF6KU8Yojhfa",
        "outputId": "11043196-c127-4f01-82b4-12e939034232"
      },
      "execution_count": null,
      "outputs": [
        {
          "output_type": "stream",
          "name": "stdout",
          "text": [
            "5\n"
          ]
        }
      ]
    },
    {
      "cell_type": "code",
      "source": [
        "def soma1(n):\n",
        "  return n+1"
      ],
      "metadata": {
        "id": "zrfy1lgYjK_j"
      },
      "execution_count": null,
      "outputs": []
    },
    {
      "cell_type": "code",
      "source": [
        "soma1(4)"
      ],
      "metadata": {
        "colab": {
          "base_uri": "https://localhost:8080/"
        },
        "id": "VJNizOEil_Pr",
        "outputId": "4785eac2-d439-4147-91ac-1de27f8fc4d7"
      },
      "execution_count": null,
      "outputs": [
        {
          "output_type": "execute_result",
          "data": {
            "text/plain": [
              "5"
            ]
          },
          "metadata": {},
          "execution_count": 35
        }
      ]
    },
    {
      "cell_type": "code",
      "source": [
        "teste2.sum = soma1"
      ],
      "metadata": {
        "id": "nd4sdgSskQf9"
      },
      "execution_count": null,
      "outputs": []
    },
    {
      "cell_type": "code",
      "source": [
        "teste2.sum.__call__(5)"
      ],
      "metadata": {
        "colab": {
          "base_uri": "https://localhost:8080/"
        },
        "id": "kGm3uC80kUuh",
        "outputId": "c3902596-d2f3-4ad5-ad87-1eddb5171c1f"
      },
      "execution_count": null,
      "outputs": [
        {
          "output_type": "execute_result",
          "data": {
            "text/plain": [
              "6"
            ]
          },
          "metadata": {},
          "execution_count": 31
        }
      ]
    },
    {
      "cell_type": "code",
      "source": [
        "teste3 = {}\n",
        "teste3['sum'] = soma1\n",
        "teste3['sum'](2)"
      ],
      "metadata": {
        "colab": {
          "base_uri": "https://localhost:8080/"
        },
        "id": "Gl4V3pKqkZ-Z",
        "outputId": "e80b6f6e-7c73-4a3e-a886-1c409bd42e60"
      },
      "execution_count": null,
      "outputs": [
        {
          "output_type": "execute_result",
          "data": {
            "text/plain": [
              "3"
            ]
          },
          "metadata": {},
          "execution_count": 32
        }
      ]
    },
    {
      "cell_type": "code",
      "source": [
        "print(type(soma1))\n"
      ],
      "metadata": {
        "colab": {
          "base_uri": "https://localhost:8080/"
        },
        "id": "EDc3YF6-kv6O",
        "outputId": "6a54c796-c788-4b61-ab53-7a38f952764c"
      },
      "execution_count": null,
      "outputs": [
        {
          "output_type": "stream",
          "name": "stdout",
          "text": [
            "<class 'function'>\n"
          ]
        }
      ]
    },
    {
      "cell_type": "code",
      "source": [
        "print(soma1)"
      ],
      "metadata": {
        "colab": {
          "base_uri": "https://localhost:8080/"
        },
        "id": "lyDLaZyElpoy",
        "outputId": "c67d0af1-b3ca-457b-a6e4-dba28542ac7a"
      },
      "execution_count": null,
      "outputs": [
        {
          "output_type": "stream",
          "name": "stdout",
          "text": [
            "<function soma1 at 0x7d82954d69e0>\n"
          ]
        }
      ]
    },
    {
      "cell_type": "code",
      "source": [
        "soma1.__call__(9)"
      ],
      "metadata": {
        "colab": {
          "base_uri": "https://localhost:8080/"
        },
        "id": "yRgG5hIKlzEr",
        "outputId": "9f5915fc-89d8-4a5f-aa09-b87c5fab658c"
      },
      "execution_count": null,
      "outputs": [
        {
          "output_type": "execute_result",
          "data": {
            "text/plain": [
              "10"
            ]
          },
          "metadata": {},
          "execution_count": 37
        }
      ]
    },
    {
      "cell_type": "code",
      "source": [
        "print(soma1.__call__)"
      ],
      "metadata": {
        "colab": {
          "base_uri": "https://localhost:8080/"
        },
        "id": "VFXq6N33mUHU",
        "outputId": "51b27b6f-731d-4b31-c1cf-f482fddf7e7f"
      },
      "execution_count": null,
      "outputs": [
        {
          "output_type": "stream",
          "name": "stdout",
          "text": [
            "<method-wrapper '__call__' of function object at 0x7d82954d69e0>\n"
          ]
        }
      ]
    },
    {
      "cell_type": "markdown",
      "source": [
        "Importante: Atribuição por valor x Atribuição por referência"
      ],
      "metadata": {
        "id": "vzS73crewzvv"
      }
    },
    {
      "cell_type": "code",
      "source": [
        "a = 1\n",
        "b = a\n",
        "a = 2\n",
        "print(a, b)"
      ],
      "metadata": {
        "colab": {
          "base_uri": "https://localhost:8080/"
        },
        "id": "UByY2vS3pNFM",
        "outputId": "218e504b-6671-4d7a-fea7-3a57114af9f6"
      },
      "execution_count": null,
      "outputs": [
        {
          "output_type": "stream",
          "name": "stdout",
          "text": [
            "2 1\n"
          ]
        }
      ]
    },
    {
      "cell_type": "code",
      "source": [
        "a = ''\n",
        "b = a\n",
        "a += 'a'\n",
        "print(a, b)"
      ],
      "metadata": {
        "colab": {
          "base_uri": "https://localhost:8080/"
        },
        "id": "PmbooLLOAWBK",
        "outputId": "e6ef0904-9537-4eac-cc5a-c7e4e10cd520"
      },
      "execution_count": null,
      "outputs": [
        {
          "output_type": "stream",
          "name": "stdout",
          "text": [
            "a \n"
          ]
        }
      ]
    },
    {
      "cell_type": "code",
      "source": [
        "a = [1] # a = list(); a.append(1)\n",
        "b = a\n",
        "a.append(2)\n",
        "print(a, b)"
      ],
      "metadata": {
        "colab": {
          "base_uri": "https://localhost:8080/"
        },
        "id": "2kIk-0ZCw-zQ",
        "outputId": "80381af0-4762-4e54-ea43-747b087a66af"
      },
      "execution_count": null,
      "outputs": [
        {
          "output_type": "stream",
          "name": "stdout",
          "text": [
            "[1, 2] [1, 2]\n"
          ]
        }
      ]
    },
    {
      "cell_type": "code",
      "source": [
        "b.extend([3,4,5])\n",
        "print(a,b)"
      ],
      "metadata": {
        "colab": {
          "base_uri": "https://localhost:8080/"
        },
        "id": "vSbWokRdB23z",
        "outputId": "a277243c-41f6-4b4a-98d7-e9fea75c878b"
      },
      "execution_count": null,
      "outputs": [
        {
          "output_type": "stream",
          "name": "stdout",
          "text": [
            "[1, 2, 3, 4, 5] [1, 2, 3, 4, 5]\n"
          ]
        }
      ]
    },
    {
      "cell_type": "code",
      "source": [
        "a = MinhaClasse()\n",
        "a.valor = [1]\n",
        "b = MinhaClasse()\n",
        "b.valor = a.valor.copy()\n",
        "a.valor.append(2)\n",
        "print(a.valor, b.valor)"
      ],
      "metadata": {
        "colab": {
          "base_uri": "https://localhost:8080/"
        },
        "id": "FbRyKjfkw-2W",
        "outputId": "8af5ecf5-8539-4341-8552-8e68d10bbdef"
      },
      "execution_count": null,
      "outputs": [
        {
          "output_type": "stream",
          "name": "stdout",
          "text": [
            "[1, 2] [1]\n"
          ]
        }
      ]
    },
    {
      "cell_type": "code",
      "source": [
        "print(a, b)"
      ],
      "metadata": {
        "colab": {
          "base_uri": "https://localhost:8080/"
        },
        "id": "qhOL9dPPrLUI",
        "outputId": "d0b80d31-522f-4932-aef9-65a3428bb135"
      },
      "execution_count": null,
      "outputs": [
        {
          "output_type": "stream",
          "name": "stdout",
          "text": [
            "<__main__.MinhaClasse object at 0x7de6772de5c0> <__main__.MinhaClasse object at 0x7de6772de5c0>\n"
          ]
        }
      ]
    },
    {
      "cell_type": "code",
      "source": [
        "a == b"
      ],
      "metadata": {
        "colab": {
          "base_uri": "https://localhost:8080/"
        },
        "id": "WqdqVF_grRTz",
        "outputId": "bf86ef1c-cba8-4703-ac6e-b1e187c1ce74"
      },
      "execution_count": null,
      "outputs": [
        {
          "output_type": "execute_result",
          "data": {
            "text/plain": [
              "True"
            ]
          },
          "metadata": {},
          "execution_count": 43
        }
      ]
    },
    {
      "cell_type": "code",
      "source": [
        "self = 1"
      ],
      "metadata": {
        "id": "3tGQP3faaw_m"
      },
      "execution_count": null,
      "outputs": []
    },
    {
      "cell_type": "markdown",
      "source": [
        "### Definindo uma nova classe com atributos e métodos: o parâmetro self"
      ],
      "metadata": {
        "id": "3XzjUlz1AeYF"
      }
    },
    {
      "cell_type": "code",
      "source": [
        "class Pessoa:\n",
        "\n",
        "  def diz_oi(self, frase):\n",
        "    print(frase, self.nome)"
      ],
      "metadata": {
        "id": "Tz6ly5JsAqsh"
      },
      "execution_count": null,
      "outputs": []
    },
    {
      "cell_type": "code",
      "source": [
        "p = Pessoa()\n",
        "p.nome = \"Guilherme\"\n",
        "p.diz_oi(\"bom dia\") ## diz_oi(p)"
      ],
      "metadata": {
        "colab": {
          "base_uri": "https://localhost:8080/"
        },
        "id": "G-lpsEQ8aSQt",
        "outputId": "650ab3ee-9ac9-4fce-eac2-370df124a6fa"
      },
      "execution_count": null,
      "outputs": [
        {
          "output_type": "stream",
          "name": "stdout",
          "text": [
            "bom dia Guilherme\n"
          ]
        }
      ]
    },
    {
      "cell_type": "code",
      "source": [
        "def diz_oi(x):\n",
        "    print(x['nome'])"
      ],
      "metadata": {
        "id": "VUc7dz-WKSjw"
      },
      "execution_count": null,
      "outputs": []
    },
    {
      "cell_type": "code",
      "source": [
        "diz_oi(p)"
      ],
      "metadata": {
        "colab": {
          "base_uri": "https://localhost:8080/"
        },
        "id": "Y9iU4D2pKZ_8",
        "outputId": "618826b2-c0bf-4455-f8e0-00cf7bbbe542"
      },
      "execution_count": null,
      "outputs": [
        {
          "output_type": "stream",
          "name": "stdout",
          "text": [
            "<class '__main__.Pessoa'>\n"
          ]
        }
      ]
    },
    {
      "cell_type": "code",
      "source": [
        "p = {}\n",
        "p['nome'] = 'Guilherme'\n",
        "p['diz_oi'] = diz_oi"
      ],
      "metadata": {
        "id": "rLtZNIKJQ1X2"
      },
      "execution_count": null,
      "outputs": []
    },
    {
      "cell_type": "code",
      "source": [
        "p['diz_oi'](p)"
      ],
      "metadata": {
        "colab": {
          "base_uri": "https://localhost:8080/"
        },
        "id": "JsT08QPHKaTA",
        "outputId": "55ccb8fe-7798-4e5b-9527-b98e722d219d"
      },
      "execution_count": null,
      "outputs": [
        {
          "output_type": "stream",
          "name": "stdout",
          "text": [
            "Guilherme\n"
          ]
        }
      ]
    },
    {
      "cell_type": "code",
      "source": [
        "class Pessoa:\n",
        "\n",
        "  def __init__(self, nome: str, cpf: int): #python Magic\n",
        "    self.nome = nome\n",
        "    self.cpf = cpf\n",
        "\n",
        "  def diz_oi(self):\n",
        "    print(self.nome)\n",
        "\n",
        "  def imprime_cpf(self):\n",
        "    print(self.cpf)"
      ],
      "metadata": {
        "id": "7b7XtJKEb2G8"
      },
      "execution_count": null,
      "outputs": []
    },
    {
      "cell_type": "code",
      "source": [
        "p = Pessoa(\"Guilherme\", 12345)\n",
        "q = Pessoa(\"Isabel\", 4567)\n"
      ],
      "metadata": {
        "id": "0kb2QvSHb2Vo"
      },
      "execution_count": null,
      "outputs": []
    },
    {
      "cell_type": "code",
      "source": [
        "p.imprime_cpf()"
      ],
      "metadata": {
        "colab": {
          "base_uri": "https://localhost:8080/"
        },
        "id": "clNoj0v2cHw9",
        "outputId": "24a957ee-ae66-4841-bd23-9416f9465664"
      },
      "execution_count": null,
      "outputs": [
        {
          "output_type": "stream",
          "name": "stdout",
          "text": [
            "12345\n"
          ]
        }
      ]
    },
    {
      "cell_type": "code",
      "source": [
        "r = Pessoa()\n"
      ],
      "metadata": {
        "colab": {
          "base_uri": "https://localhost:8080/",
          "height": 141
        },
        "id": "3sd96n2KcMXM",
        "outputId": "91caefb1-208f-404b-9163-38fc009e692b"
      },
      "execution_count": null,
      "outputs": [
        {
          "output_type": "error",
          "ename": "TypeError",
          "evalue": "Pessoa.__init__() missing 2 required positional arguments: 'nome' and 'cpf'",
          "traceback": [
            "\u001b[0;31m---------------------------------------------------------------------------\u001b[0m",
            "\u001b[0;31mTypeError\u001b[0m                                 Traceback (most recent call last)",
            "\u001b[0;32m<ipython-input-16-6f6fc4566cba>\u001b[0m in \u001b[0;36m<cell line: 1>\u001b[0;34m()\u001b[0m\n\u001b[0;32m----> 1\u001b[0;31m \u001b[0mr\u001b[0m \u001b[0;34m=\u001b[0m \u001b[0mPessoa\u001b[0m\u001b[0;34m(\u001b[0m\u001b[0;34m)\u001b[0m\u001b[0;34m\u001b[0m\u001b[0;34m\u001b[0m\u001b[0m\n\u001b[0m",
            "\u001b[0;31mTypeError\u001b[0m: Pessoa.__init__() missing 2 required positional arguments: 'nome' and 'cpf'"
          ]
        }
      ]
    },
    {
      "cell_type": "code",
      "source": [
        "r.diz_oi()"
      ],
      "metadata": {
        "colab": {
          "base_uri": "https://localhost:8080/",
          "height": 263
        },
        "id": "7SDreeoKcZzf",
        "outputId": "f866dcf3-3343-460d-c90b-9559fd6b474c"
      },
      "execution_count": null,
      "outputs": [
        {
          "output_type": "error",
          "ename": "AttributeError",
          "evalue": "'Pessoa' object has no attribute 'nome'",
          "traceback": [
            "\u001b[0;31m---------------------------------------------------------------------------\u001b[0m",
            "\u001b[0;31mAttributeError\u001b[0m                            Traceback (most recent call last)",
            "\u001b[0;32m<ipython-input-27-12e4088d23ba>\u001b[0m in \u001b[0;36m<cell line: 1>\u001b[0;34m()\u001b[0m\n\u001b[0;32m----> 1\u001b[0;31m \u001b[0mr\u001b[0m\u001b[0;34m.\u001b[0m\u001b[0mdiz_oi\u001b[0m\u001b[0;34m(\u001b[0m\u001b[0;34m)\u001b[0m\u001b[0;34m\u001b[0m\u001b[0;34m\u001b[0m\u001b[0m\n\u001b[0m",
            "\u001b[0;32m<ipython-input-23-fffe5b00d2b3>\u001b[0m in \u001b[0;36mdiz_oi\u001b[0;34m(self)\u001b[0m\n\u001b[1;32m      2\u001b[0m \u001b[0;34m\u001b[0m\u001b[0m\n\u001b[1;32m      3\u001b[0m   \u001b[0;32mdef\u001b[0m \u001b[0mdiz_oi\u001b[0m\u001b[0;34m(\u001b[0m\u001b[0mself\u001b[0m\u001b[0;34m)\u001b[0m\u001b[0;34m:\u001b[0m\u001b[0;34m\u001b[0m\u001b[0;34m\u001b[0m\u001b[0m\n\u001b[0;32m----> 4\u001b[0;31m     \u001b[0mprint\u001b[0m\u001b[0;34m(\u001b[0m\u001b[0;34m\"Oi meu nome é \"\u001b[0m \u001b[0;34m+\u001b[0m \u001b[0mself\u001b[0m\u001b[0;34m.\u001b[0m\u001b[0mnome\u001b[0m\u001b[0;34m)\u001b[0m\u001b[0;34m\u001b[0m\u001b[0;34m\u001b[0m\u001b[0m\n\u001b[0m",
            "\u001b[0;31mAttributeError\u001b[0m: 'Pessoa' object has no attribute 'nome'"
          ]
        }
      ]
    },
    {
      "cell_type": "markdown",
      "source": [
        "### Construtor?"
      ],
      "metadata": {
        "id": "Csh8Blp-uZ6i"
      }
    },
    {
      "cell_type": "code",
      "source": [
        "class Pessoa:\n",
        "  def diz_oi(self):\n",
        "    print(\"Oi meu nome é \" + self.nome)\n",
        "\n",
        "  def nomeia(self, nome):\n",
        "    self.nome = nome\n"
      ],
      "metadata": {
        "id": "6aQCiyGIcHTN"
      },
      "execution_count": null,
      "outputs": []
    },
    {
      "cell_type": "code",
      "source": [
        "p = Pessoa()\n",
        "p.nomeia(\"Guilherme\")\n",
        "p.diz_oi()"
      ],
      "metadata": {
        "colab": {
          "base_uri": "https://localhost:8080/"
        },
        "id": "51vxIhbTaRuF",
        "outputId": "e58c2832-1e87-4a3f-f851-8c9a69069bfa"
      },
      "execution_count": null,
      "outputs": [
        {
          "output_type": "stream",
          "name": "stdout",
          "text": [
            "Oi meu nome é Guilherme\n"
          ]
        }
      ]
    },
    {
      "cell_type": "code",
      "source": [
        "q = Pessoa()\n",
        "q.nomeia(\"Felipe\")\n",
        "q.diz_oi()"
      ],
      "metadata": {
        "colab": {
          "base_uri": "https://localhost:8080/"
        },
        "id": "UXRsa4pxdmp3",
        "outputId": "1968742e-7e0b-480b-b516-f6d129050858"
      },
      "execution_count": null,
      "outputs": [
        {
          "output_type": "stream",
          "name": "stdout",
          "text": [
            "Oi meu nome é Felipe\n"
          ]
        }
      ]
    },
    {
      "cell_type": "code",
      "source": [
        "class Pessoa:\n",
        "\n",
        "\n",
        "  def diz_oi(self):\n",
        "    print(\"Oi meu nome é \" + self.nome)\n",
        "\n",
        "  def diz_oi(self):\n",
        "    print(\"sobrecrevi\")\n",
        "\n",
        "  def __init__(self, nome, cpf):\n",
        "    print(\"Chamou o INiti\")\n",
        "    self.nome = nome\n",
        "    self.cpf = cpf\n"
      ],
      "metadata": {
        "id": "Ow46xKa9uvhF"
      },
      "execution_count": null,
      "outputs": []
    },
    {
      "cell_type": "code",
      "source": [
        "p = Pessoa(\"Guilherme\", \"123456\")\n",
        "p.diz_oi()"
      ],
      "metadata": {
        "id": "h3UfncHAuvuA",
        "colab": {
          "base_uri": "https://localhost:8080/"
        },
        "outputId": "38ad9c89-2839-45d2-bb46-1d606fe70695"
      },
      "execution_count": null,
      "outputs": [
        {
          "output_type": "stream",
          "name": "stdout",
          "text": [
            "Guilherme\n"
          ]
        }
      ]
    },
    {
      "cell_type": "code",
      "source": [
        "p.nome = \"Isabel\""
      ],
      "metadata": {
        "id": "sqqI0jyee1tA"
      },
      "execution_count": null,
      "outputs": []
    },
    {
      "cell_type": "code",
      "source": [
        "p.diz_oi()"
      ],
      "metadata": {
        "colab": {
          "base_uri": "https://localhost:8080/"
        },
        "id": "0eYlzSJz-eyF",
        "outputId": "44bf10bd-04d4-456a-d6dd-4cdb8830197a"
      },
      "execution_count": null,
      "outputs": [
        {
          "output_type": "stream",
          "name": "stdout",
          "text": [
            "Isabel\n"
          ]
        }
      ]
    },
    {
      "cell_type": "code",
      "source": [
        "q = Pessoa(\"Isabel\", 4567)"
      ],
      "metadata": {
        "id": "YZFhf2lE-wa6"
      },
      "execution_count": null,
      "outputs": []
    },
    {
      "cell_type": "code",
      "source": [
        "q.nome"
      ],
      "metadata": {
        "colab": {
          "base_uri": "https://localhost:8080/",
          "height": 35
        },
        "id": "Z9FO95ig-wzG",
        "outputId": "6e1ed47b-bc6b-4cd0-de15-0ea28e92aca8"
      },
      "execution_count": null,
      "outputs": [
        {
          "output_type": "execute_result",
          "data": {
            "text/plain": [
              "'Isabel'"
            ],
            "application/vnd.google.colaboratory.intrinsic+json": {
              "type": "string"
            }
          },
          "metadata": {},
          "execution_count": 21
        }
      ]
    },
    {
      "cell_type": "markdown",
      "source": [
        "### Atributos de Classe vs. Atributos de instância"
      ],
      "metadata": {
        "id": "sBMmI5jX-KRw"
      }
    },
    {
      "cell_type": "code",
      "source": [
        "nome = \"Adrubal\"\n",
        "horas_trabalhadas = 12345"
      ],
      "metadata": {
        "id": "gpkk2df9midz"
      },
      "execution_count": null,
      "outputs": []
    },
    {
      "cell_type": "code",
      "source": [
        "class Funcionario:\n",
        "\n",
        "  horas_trabalhadas = 40\n",
        "\n",
        "  def __init__(self, nome, hora_trabalho):\n",
        "    self.nome = nome\n",
        "    self.hora_trabalho = hora_trabalho\n",
        "\n",
        "  def diz_nome(self):\n",
        "    print(self.nome)\n",
        "\n",
        "  def calcula_salario(self):\n",
        "    return self.hora_trabalho * self.__class__.horas_trabalhadas"
      ],
      "metadata": {
        "id": "-dgHTTwR-JPd"
      },
      "execution_count": null,
      "outputs": []
    },
    {
      "cell_type": "code",
      "source": [
        "print(f1.__class__, type(f1))"
      ],
      "metadata": {
        "colab": {
          "base_uri": "https://localhost:8080/"
        },
        "id": "Ix8kaFzvEtZ4",
        "outputId": "a750b92b-b782-453d-d2cc-4b187be19226"
      },
      "execution_count": null,
      "outputs": [
        {
          "output_type": "stream",
          "name": "stdout",
          "text": [
            "<class '__main__.Funcionario'> <class '__main__.Funcionario'>\n"
          ]
        }
      ]
    },
    {
      "cell_type": "code",
      "source": [
        "f1 = Funcionario(\"João\", 20)\n",
        "f2 = Funcionario(\"Maria\", 25)"
      ],
      "metadata": {
        "id": "bQrpjz7S-JYT"
      },
      "execution_count": null,
      "outputs": []
    },
    {
      "cell_type": "code",
      "source": [
        "f1.diz_nome()"
      ],
      "metadata": {
        "colab": {
          "base_uri": "https://localhost:8080/"
        },
        "id": "oOXg8fJDmZwg",
        "outputId": "5f4990ec-f796-4df8-d858-eb3c14b96716"
      },
      "execution_count": null,
      "outputs": [
        {
          "output_type": "stream",
          "name": "stdout",
          "text": [
            "João\n"
          ]
        }
      ]
    },
    {
      "cell_type": "code",
      "source": [
        "print(f1.calcula_salario(), f2.calcula_salario())\n",
        "# f1.calcula_salario -> calcula_salario(f1)"
      ],
      "metadata": {
        "colab": {
          "base_uri": "https://localhost:8080/"
        },
        "id": "OQ-X0TC6jlb6",
        "outputId": "3899e64b-616b-4170-b439-b4ababfb1577"
      },
      "execution_count": null,
      "outputs": [
        {
          "output_type": "stream",
          "name": "stdout",
          "text": [
            "800 1000\n"
          ]
        }
      ]
    },
    {
      "cell_type": "code",
      "source": [
        "print(f1.horas_trabalhadas, f2.horas_trabalhadas)\n"
      ],
      "metadata": {
        "colab": {
          "base_uri": "https://localhost:8080/"
        },
        "id": "viVweb-mjlpX",
        "outputId": "9aa0aa73-ed4e-4221-90ff-d2a211c0ed34"
      },
      "execution_count": null,
      "outputs": [
        {
          "output_type": "stream",
          "name": "stdout",
          "text": [
            "10 40\n"
          ]
        }
      ]
    },
    {
      "cell_type": "code",
      "source": [
        "print(Funcionario.horas_trabalhadas)"
      ],
      "metadata": {
        "colab": {
          "base_uri": "https://localhost:8080/"
        },
        "id": "-evPVMYAkz31",
        "outputId": "37748c59-4bd2-44c0-e5d9-7909c774b2e1"
      },
      "execution_count": null,
      "outputs": [
        {
          "output_type": "stream",
          "name": "stdout",
          "text": [
            "40\n"
          ]
        }
      ]
    },
    {
      "cell_type": "code",
      "source": [
        "Funcionario.horas_trabalhadas = 30"
      ],
      "metadata": {
        "id": "8dlPGGhBld5_"
      },
      "execution_count": null,
      "outputs": []
    },
    {
      "cell_type": "code",
      "source": [
        "print(f1.__dict__, f2.__dict__)"
      ],
      "metadata": {
        "colab": {
          "base_uri": "https://localhost:8080/"
        },
        "id": "gSwlRvH2ngEt",
        "outputId": "5864c2a9-4c51-4d81-88d0-f0f4ba35fb3c"
      },
      "execution_count": null,
      "outputs": [
        {
          "output_type": "stream",
          "name": "stdout",
          "text": [
            "{'nome': 'João', 'hora_trabalho': 20, 'horas_trabalhadas': 10} {'nome': 'Maria', 'hora_trabalho': 25}\n"
          ]
        }
      ]
    },
    {
      "cell_type": "code",
      "source": [
        "print(vars(f1), vars(f2))"
      ],
      "metadata": {
        "colab": {
          "base_uri": "https://localhost:8080/"
        },
        "id": "JjNP6XKHFH8M",
        "outputId": "3cb81774-851f-403f-ad81-0e931ce8e759"
      },
      "execution_count": null,
      "outputs": [
        {
          "output_type": "stream",
          "name": "stdout",
          "text": [
            "{'nome': 'João', 'hora_trabalho': 20, 'horas_trabalhadas': 10} {'nome': 'Maria', 'hora_trabalho': 25}\n"
          ]
        }
      ]
    },
    {
      "cell_type": "code",
      "source": [],
      "metadata": {
        "id": "H_J0aEEzFi2y"
      },
      "execution_count": null,
      "outputs": []
    },
    {
      "cell_type": "code",
      "source": [
        "print(Funcionario.__dict__)"
      ],
      "metadata": {
        "colab": {
          "base_uri": "https://localhost:8080/"
        },
        "id": "bInMRUG3ngQ4",
        "outputId": "261c997f-7a92-4306-9245-75de23e46625"
      },
      "execution_count": null,
      "outputs": [
        {
          "output_type": "stream",
          "name": "stdout",
          "text": [
            "{'__module__': '__main__', 'horas_trabalhadas': 30, '__init__': <function Funcionario.__init__ at 0x7e8bd72ea8c0>, 'diz_nome': <function Funcionario.diz_nome at 0x7e8bd72ea950>, 'calcula_salario': <function Funcionario.calcula_salario at 0x7e8bd72ea9e0>, '__dict__': <attribute '__dict__' of 'Funcionario' objects>, '__weakref__': <attribute '__weakref__' of 'Funcionario' objects>, '__doc__': None}\n"
          ]
        }
      ]
    },
    {
      "cell_type": "code",
      "source": [
        "f1.horas_trabalhadas = 10\n"
      ],
      "metadata": {
        "id": "86mYT3SQngZo"
      },
      "execution_count": null,
      "outputs": []
    },
    {
      "cell_type": "code",
      "source": [
        "Funcionario.horas_trabalhadas = 100"
      ],
      "metadata": {
        "id": "pYq8n3czoagJ"
      },
      "execution_count": null,
      "outputs": []
    },
    {
      "cell_type": "code",
      "source": [
        "Funcionario.horas_trabalhadas, f2.horas_trabalhadas"
      ],
      "metadata": {
        "colab": {
          "base_uri": "https://localhost:8080/"
        },
        "id": "CiJTWCSNokOG",
        "outputId": "9d9d9a79-a7d3-4672-d164-bf9ccf22ebd9"
      },
      "execution_count": null,
      "outputs": [
        {
          "output_type": "execute_result",
          "data": {
            "text/plain": [
              "(40, 40)"
            ]
          },
          "metadata": {},
          "execution_count": 90
        }
      ]
    },
    {
      "cell_type": "code",
      "source": [
        "f2.horas_trabalhadas"
      ],
      "metadata": {
        "colab": {
          "base_uri": "https://localhost:8080/"
        },
        "id": "2f3-SBgCpmub",
        "outputId": "b3b669b1-b94b-4785-8b71-f45e4293d169"
      },
      "execution_count": null,
      "outputs": [
        {
          "output_type": "execute_result",
          "data": {
            "text/plain": [
              "100"
            ]
          },
          "metadata": {},
          "execution_count": 110
        }
      ]
    },
    {
      "cell_type": "code",
      "source": [
        "print(property)"
      ],
      "metadata": {
        "colab": {
          "base_uri": "https://localhost:8080/"
        },
        "id": "4KhqNY9dMAnm",
        "outputId": "8e9c62f2-e44d-46db-8de2-c96589f2efa3"
      },
      "execution_count": null,
      "outputs": [
        {
          "output_type": "stream",
          "name": "stdout",
          "text": [
            "<class 'property'>\n"
          ]
        }
      ]
    },
    {
      "cell_type": "markdown",
      "source": [
        "## Encapsulamento"
      ],
      "metadata": {
        "id": "bMoHcXx5uyFl"
      }
    },
    {
      "cell_type": "code",
      "source": [
        "#naming convetions\n",
        "class Funcionario:\n",
        "\n",
        "  horas_trabalhadas = 40\n",
        "\n",
        "  def get_nome(self):\n",
        "    return self._nome\n",
        "\n",
        "  def set_nome(self, novo_nome):\n",
        "    if not type(novo_nome) is str:\n",
        "      raise ValueError(\"Nome deve ser um string!\")\n",
        "    self._nome = novo_nome\n",
        "\n",
        "\n",
        "  nome = property(get_nome, set_nome)\n",
        "\n",
        "  def __init__(self, nome, hora_trabalho):\n",
        "    self.nome = nome\n",
        "    self._hora_trabalho = hora_trabalho\n",
        "\n",
        "\n",
        "\n",
        "  def get_hora_trabalho(self):\n",
        "    return self._hora_trabalho\n",
        "\n",
        "  def calcula_salario(self):\n",
        "    return self._hora_trabalho * self.__class__.horas_trabalhadas"
      ],
      "metadata": {
        "id": "-4sAWHUuu4z3"
      },
      "execution_count": null,
      "outputs": []
    },
    {
      "cell_type": "code",
      "source": [
        "f1 = Funcionario(\"123456\", 30)"
      ],
      "metadata": {
        "id": "IAsbFXJ5u4-Q"
      },
      "execution_count": null,
      "outputs": []
    },
    {
      "cell_type": "code",
      "source": [
        "f1.nome"
      ],
      "metadata": {
        "colab": {
          "base_uri": "https://localhost:8080/",
          "height": 35
        },
        "id": "KZbTreRDu4Ng",
        "outputId": "2dc78bae-8a6e-4733-ff6a-5762390b14fe"
      },
      "execution_count": null,
      "outputs": [
        {
          "output_type": "execute_result",
          "data": {
            "text/plain": [
              "'123456'"
            ],
            "application/vnd.google.colaboratory.intrinsic+json": {
              "type": "string"
            }
          },
          "metadata": {},
          "execution_count": 116
        }
      ]
    },
    {
      "cell_type": "code",
      "source": [
        "f1.nome = 48"
      ],
      "metadata": {
        "id": "wylLk98RH2c8"
      },
      "execution_count": null,
      "outputs": []
    },
    {
      "cell_type": "code",
      "source": [
        "vars(f1)"
      ],
      "metadata": {
        "colab": {
          "base_uri": "https://localhost:8080/"
        },
        "id": "eFeLAZwZIBuN",
        "outputId": "1a29685c-65b0-4bf6-ee6e-1d7a18dc8d68"
      },
      "execution_count": null,
      "outputs": [
        {
          "output_type": "execute_result",
          "data": {
            "text/plain": [
              "{'_Funcionario__nome': 'João',\n",
              " '_Funcionario__hora_trabalho': 30,\n",
              " '__nome': 'Alberto'}"
            ]
          },
          "metadata": {},
          "execution_count": 70
        }
      ]
    },
    {
      "cell_type": "code",
      "source": [
        "print(f1.get_hora_trabalho())"
      ],
      "metadata": {
        "colab": {
          "base_uri": "https://localhost:8080/"
        },
        "id": "cDsY93-fwYED",
        "outputId": "e47acd95-5ca7-4a44-a40d-f943ed670853"
      },
      "execution_count": null,
      "outputs": [
        {
          "output_type": "stream",
          "name": "stdout",
          "text": [
            "-2\n"
          ]
        }
      ]
    },
    {
      "cell_type": "code",
      "source": [
        "f1._Funcionario__hora_trabalho = -2"
      ],
      "metadata": {
        "id": "EK5LhNppvGrY"
      },
      "execution_count": null,
      "outputs": []
    },
    {
      "cell_type": "code",
      "source": [
        "Funcionario.__dict__"
      ],
      "metadata": {
        "colab": {
          "base_uri": "https://localhost:8080/"
        },
        "id": "a4cbvNo7yIuR",
        "outputId": "5773aac4-a8ae-4bdc-deba-969296ed0ef9"
      },
      "execution_count": null,
      "outputs": [
        {
          "output_type": "execute_result",
          "data": {
            "text/plain": [
              "mappingproxy({'__module__': '__main__',\n",
              "              '_Funcionario__horas_trabalhadas': 40,\n",
              "              '__init__': <function __main__.Funcionario.__init__(self, nome, hora_trabalho)>,\n",
              "              'diz_nome': <function __main__.Funcionario.diz_nome(self)>,\n",
              "              'get_hora_trabalho': <function __main__.Funcionario.get_hora_trabalho(self)>,\n",
              "              'set_hora_trabalho': <function __main__.Funcionario.set_hora_trabalho(self, nova_hora_trabalho)>,\n",
              "              'calcula_salario': <function __main__.Funcionario.calcula_salario(self)>,\n",
              "              '__dict__': <attribute '__dict__' of 'Funcionario' objects>,\n",
              "              '__weakref__': <attribute '__weakref__' of 'Funcionario' objects>,\n",
              "              '__doc__': None})"
            ]
          },
          "metadata": {},
          "execution_count": 145
        }
      ]
    },
    {
      "cell_type": "code",
      "source": [
        "# metodos de acesso (manutenção da lógica de negócio)"
      ],
      "metadata": {
        "id": "jdZKAJ8su7EO"
      },
      "execution_count": null,
      "outputs": []
    },
    {
      "cell_type": "code",
      "source": [
        "class Livro:\n",
        "  def __init__(self, autores: list, paginas=0):\n",
        "    self._autores = autores\n",
        "    self._paginas = paginas\n",
        "\n",
        "  def get_autores(self):\n",
        "    return self._autores\n",
        "\n",
        "  def get_paginas(self):\n",
        "    return self._paginas\n",
        "\n",
        "  def set_paginas(self, p):\n",
        "    assert type(p) == int\n",
        "    assert p > 0\n",
        "    self._paginas = p\n",
        "\n",
        "  def add_autor(self, autor):\n",
        "    self._autores.append(autor)\n",
        "\n",
        "  def del_paginas(self):\n",
        "      print(\"apagando\")\n",
        "      a = self._paginas\n",
        "      del(self._paginas)\n",
        "      return a\n",
        "\n",
        "  paginas = property(get_paginas, set_paginas)\n"
      ],
      "metadata": {
        "id": "VMjPbPcJ9_fc"
      },
      "execution_count": null,
      "outputs": []
    },
    {
      "cell_type": "code",
      "source": [
        "l = Livro([], 1)\n",
        "l.paginas = 1"
      ],
      "metadata": {
        "colab": {
          "base_uri": "https://localhost:8080/"
        },
        "id": "JJSuhF81zhSM",
        "outputId": "5db03c9f-2d33-415d-cc3d-4f25f4d6d5d1"
      },
      "execution_count": null,
      "outputs": [
        {
          "output_type": "execute_result",
          "data": {
            "text/plain": [
              "1"
            ]
          },
          "metadata": {},
          "execution_count": 267
        }
      ]
    },
    {
      "cell_type": "code",
      "source": [
        "l.__dict__"
      ],
      "metadata": {
        "colab": {
          "base_uri": "https://localhost:8080/"
        },
        "id": "GnfVkNJ_0RGE",
        "outputId": "c9004c71-114e-4d72-83f8-11355c73dfd8"
      },
      "execution_count": null,
      "outputs": [
        {
          "output_type": "execute_result",
          "data": {
            "text/plain": [
              "{'_autores': [], '_paginas': 1}"
            ]
          },
          "metadata": {},
          "execution_count": 270
        }
      ]
    },
    {
      "cell_type": "code",
      "source": [
        "Livro.__dict__"
      ],
      "metadata": {
        "colab": {
          "base_uri": "https://localhost:8080/"
        },
        "id": "tSws3cIy9KsR",
        "outputId": "32b911c7-2d22-4484-d6b6-f5d02e4350df"
      },
      "execution_count": null,
      "outputs": [
        {
          "output_type": "execute_result",
          "data": {
            "text/plain": [
              "mappingproxy({'__module__': '__main__',\n",
              "              '__init__': <function __main__.Livro.__init__(self, autores: list, paginas=0)>,\n",
              "              'get_autores': <function __main__.Livro.get_autores(self)>,\n",
              "              'get_paginas': <function __main__.Livro.get_paginas(self)>,\n",
              "              'set_paginas': <function __main__.Livro.set_paginas(self, p)>,\n",
              "              'add_autor': <function __main__.Livro.add_autor(self, autor)>,\n",
              "              'del_paginas': <function __main__.Livro.del_paginas(self)>,\n",
              "              'paginas': <property at 0x7de64ea22980>,\n",
              "              '__dict__': <attribute '__dict__' of 'Livro' objects>,\n",
              "              '__weakref__': <attribute '__weakref__' of 'Livro' objects>,\n",
              "              '__doc__': None})"
            ]
          },
          "metadata": {},
          "execution_count": 271
        }
      ]
    },
    {
      "cell_type": "code",
      "source": [
        "del(l.paginas)"
      ],
      "metadata": {
        "colab": {
          "base_uri": "https://localhost:8080/"
        },
        "id": "aHebzxam4gv1",
        "outputId": "c2aef506-176b-43ae-aa28-12fd7490f156"
      },
      "execution_count": null,
      "outputs": [
        {
          "output_type": "stream",
          "name": "stdout",
          "text": [
            "apagando\n"
          ]
        }
      ]
    },
    {
      "cell_type": "code",
      "source": [
        "m = Livro()"
      ],
      "metadata": {
        "id": "CTFmn58z0yi0"
      },
      "execution_count": null,
      "outputs": []
    },
    {
      "cell_type": "code",
      "source": [
        "m.add_autor(\"Mario de Andrade\")\n",
        "m.add_autor(\"Paulo Coelho\")"
      ],
      "metadata": {
        "id": "Y7pWylmL0yuw"
      },
      "execution_count": null,
      "outputs": []
    },
    {
      "cell_type": "code",
      "source": [
        "m.get_paginas()"
      ],
      "metadata": {
        "colab": {
          "base_uri": "https://localhost:8080/"
        },
        "id": "-EqH9cNE0yyV",
        "outputId": "3e05c656-5ca6-4d72-ac16-356029576c64"
      },
      "execution_count": null,
      "outputs": [
        {
          "output_type": "execute_result",
          "data": {
            "text/plain": [
              "0"
            ]
          },
          "metadata": {},
          "execution_count": 185
        }
      ]
    },
    {
      "cell_type": "markdown",
      "source": [
        "## Herança"
      ],
      "metadata": {
        "id": "i8pLyzMPu7vx"
      }
    },
    {
      "cell_type": "markdown",
      "source": [
        "reaproveitamento de codigo\n",
        "\n",
        "subclasse superclasse\n",
        "(relação é 1)\n",
        "\n",
        "\n",
        "\n",
        "\n"
      ],
      "metadata": {
        "id": "JX3bD5ughUQD"
      }
    },
    {
      "cell_type": "code",
      "source": [
        "class Pessoa(object):\n",
        "  def __init__(self, nome, cpf):\n",
        "    self.nome = nome\n",
        "    self.cpf = cpf\n",
        "\n",
        "  def get_nome(self):\n",
        "    return self._nome\n",
        "\n",
        "  def set_nome(self, nome):\n",
        "    self._nome = nome\n",
        "\n",
        "  def get_cpf(self):\n",
        "    return self._cpf\n",
        "\n",
        "  def set_cpf(self, cpf):\n",
        "    # valida se o cpf valido\n",
        "    self._cpf = cpf\n",
        "\n",
        "  nome = property(get_nome, set_nome)\n",
        "  cpf = property (get_cpf, set_cpf)"
      ],
      "metadata": {
        "id": "nYnJRirBvGx0"
      },
      "execution_count": null,
      "outputs": []
    },
    {
      "cell_type": "code",
      "source": [
        "class Professor(Pessoa):\n",
        "  def __init__(self, nome, cpf, disciplina):\n",
        "    self.disciplina = disciplina\n",
        "    super().__init__(nome, cpf)\n",
        "\n",
        "  def get_disciplina(self):\n",
        "    return self._disciplina\n",
        "\n",
        "  def set_disciplina(self, disciplina):\n",
        "    self._disciplina = disciplina\n",
        "\n",
        "  def __str__(self):\n",
        "    return f\"Professor<{self.nome}>\"\n",
        "\n",
        "  disciplina = property(get_disciplina, set_disciplina)\n"
      ],
      "metadata": {
        "id": "i1t60W49vG8Y"
      },
      "execution_count": null,
      "outputs": []
    },
    {
      "cell_type": "code",
      "source": [
        "vars(prof)"
      ],
      "metadata": {
        "colab": {
          "base_uri": "https://localhost:8080/"
        },
        "id": "p_3l78KMVsKc",
        "outputId": "54f047d7-4dcb-45e3-f536-ee2d2b8aab7a"
      },
      "execution_count": null,
      "outputs": [
        {
          "output_type": "execute_result",
          "data": {
            "text/plain": [
              "{'_disciplina': 'Matematica', '_nome': 'Guilherme', '_cpf': '1236'}"
            ]
          },
          "metadata": {},
          "execution_count": 161
        }
      ]
    },
    {
      "cell_type": "code",
      "source": [
        "print(prof, pessoa)"
      ],
      "metadata": {
        "colab": {
          "base_uri": "https://localhost:8080/"
        },
        "id": "q26Lrw_OV-w8",
        "outputId": "220817c3-c812-43a3-99fa-7dd09a55653a"
      },
      "execution_count": null,
      "outputs": [
        {
          "output_type": "stream",
          "name": "stdout",
          "text": [
            "Professor<Guilherme> <__main__.Pessoa object at 0x7e8bd73d12d0>\n"
          ]
        }
      ]
    },
    {
      "cell_type": "code",
      "source": [
        "prof = Professor(\"Guilherme\", \"1236\", \"Matematica\")\n",
        "pessoa = Pessoa(\"Isabel\", \"4567\")"
      ],
      "metadata": {
        "id": "6lr-VwhO1xQL",
        "colab": {
          "base_uri": "https://localhost:8080/",
          "height": 280
        },
        "outputId": "28568ada-882f-4ee6-bdd6-5f664e730aed"
      },
      "execution_count": null,
      "outputs": [
        {
          "output_type": "error",
          "ename": "TypeError",
          "evalue": "object.__init__() takes exactly one argument (the instance to initialize)",
          "traceback": [
            "\u001b[0;31m---------------------------------------------------------------------------\u001b[0m",
            "\u001b[0;31mTypeError\u001b[0m                                 Traceback (most recent call last)",
            "\u001b[0;32m<ipython-input-169-dc32c4d14530>\u001b[0m in \u001b[0;36m<cell line: 1>\u001b[0;34m()\u001b[0m\n\u001b[0;32m----> 1\u001b[0;31m \u001b[0mprof\u001b[0m \u001b[0;34m=\u001b[0m \u001b[0mProfessor\u001b[0m\u001b[0;34m(\u001b[0m\u001b[0;34m\"Guilherme\"\u001b[0m\u001b[0;34m,\u001b[0m \u001b[0;34m\"1236\"\u001b[0m\u001b[0;34m,\u001b[0m \u001b[0;34m\"Matematica\"\u001b[0m\u001b[0;34m)\u001b[0m\u001b[0;34m\u001b[0m\u001b[0;34m\u001b[0m\u001b[0m\n\u001b[0m\u001b[1;32m      2\u001b[0m \u001b[0mpessoa\u001b[0m \u001b[0;34m=\u001b[0m \u001b[0mPessoa\u001b[0m\u001b[0;34m(\u001b[0m\u001b[0;34m\"Isabel\"\u001b[0m\u001b[0;34m,\u001b[0m \u001b[0;34m\"4567\"\u001b[0m\u001b[0;34m)\u001b[0m\u001b[0;34m\u001b[0m\u001b[0;34m\u001b[0m\u001b[0m\n",
            "\u001b[0;32m<ipython-input-168-6fc468256b05>\u001b[0m in \u001b[0;36m__init__\u001b[0;34m(self, nome, cpf, disciplina)\u001b[0m\n\u001b[1;32m      2\u001b[0m   \u001b[0;32mdef\u001b[0m \u001b[0m__init__\u001b[0m\u001b[0;34m(\u001b[0m\u001b[0mself\u001b[0m\u001b[0;34m,\u001b[0m \u001b[0mnome\u001b[0m\u001b[0;34m,\u001b[0m \u001b[0mcpf\u001b[0m\u001b[0;34m,\u001b[0m \u001b[0mdisciplina\u001b[0m\u001b[0;34m)\u001b[0m\u001b[0;34m:\u001b[0m\u001b[0;34m\u001b[0m\u001b[0;34m\u001b[0m\u001b[0m\n\u001b[1;32m      3\u001b[0m     \u001b[0mself\u001b[0m\u001b[0;34m.\u001b[0m\u001b[0mdisciplina\u001b[0m \u001b[0;34m=\u001b[0m \u001b[0mdisciplina\u001b[0m\u001b[0;34m\u001b[0m\u001b[0;34m\u001b[0m\u001b[0m\n\u001b[0;32m----> 4\u001b[0;31m     \u001b[0msuper\u001b[0m\u001b[0;34m(\u001b[0m\u001b[0mPessoa\u001b[0m\u001b[0;34m,\u001b[0m \u001b[0mself\u001b[0m\u001b[0;34m)\u001b[0m\u001b[0;34m.\u001b[0m\u001b[0m__init__\u001b[0m\u001b[0;34m(\u001b[0m\u001b[0mnome\u001b[0m\u001b[0;34m,\u001b[0m \u001b[0mcpf\u001b[0m\u001b[0;34m)\u001b[0m\u001b[0;34m\u001b[0m\u001b[0;34m\u001b[0m\u001b[0m\n\u001b[0m\u001b[1;32m      5\u001b[0m \u001b[0;34m\u001b[0m\u001b[0m\n\u001b[1;32m      6\u001b[0m   \u001b[0;32mdef\u001b[0m \u001b[0mget_disciplina\u001b[0m\u001b[0;34m(\u001b[0m\u001b[0mself\u001b[0m\u001b[0;34m)\u001b[0m\u001b[0;34m:\u001b[0m\u001b[0;34m\u001b[0m\u001b[0;34m\u001b[0m\u001b[0m\n",
            "\u001b[0;31mTypeError\u001b[0m: object.__init__() takes exactly one argument (the instance to initialize)"
          ]
        }
      ]
    },
    {
      "cell_type": "code",
      "source": [
        "a = object()"
      ],
      "metadata": {
        "id": "kVVELTZpYK7o"
      },
      "execution_count": null,
      "outputs": []
    },
    {
      "cell_type": "code",
      "source": [
        "print(a)"
      ],
      "metadata": {
        "colab": {
          "base_uri": "https://localhost:8080/"
        },
        "id": "8hK7oSDtYLbb",
        "outputId": "e19b2d4d-669f-4de9-d02c-49571a0e10f1"
      },
      "execution_count": null,
      "outputs": [
        {
          "output_type": "stream",
          "name": "stdout",
          "text": [
            "<object object at 0x7e8bd7148990>\n"
          ]
        }
      ]
    },
    {
      "cell_type": "code",
      "source": [
        "a.__hash__()"
      ],
      "metadata": {
        "colab": {
          "base_uri": "https://localhost:8080/"
        },
        "id": "GugF-Tf1bv0J",
        "outputId": "cdbb7379-6911-4676-cabb-4e8f68bb5064"
      },
      "execution_count": null,
      "outputs": [
        {
          "output_type": "execute_result",
          "data": {
            "text/plain": [
              "8696192125081"
            ]
          },
          "metadata": {},
          "execution_count": 144
        }
      ]
    },
    {
      "cell_type": "code",
      "source": [
        "prof.abacate()"
      ],
      "metadata": {
        "colab": {
          "base_uri": "https://localhost:8080/",
          "height": 141
        },
        "id": "8A64xwJCyOiN",
        "outputId": "2602bf98-17b0-4664-e145-29b9b52c01e3"
      },
      "execution_count": null,
      "outputs": [
        {
          "output_type": "error",
          "ename": "AttributeError",
          "evalue": "'Professor' object has no attribute 'abacate'",
          "traceback": [
            "\u001b[0;31m---------------------------------------------------------------------------\u001b[0m",
            "\u001b[0;31mAttributeError\u001b[0m                            Traceback (most recent call last)",
            "\u001b[0;32m<ipython-input-138-9279dd6c42d4>\u001b[0m in \u001b[0;36m<cell line: 1>\u001b[0;34m()\u001b[0m\n\u001b[0;32m----> 1\u001b[0;31m \u001b[0mprof\u001b[0m\u001b[0;34m.\u001b[0m\u001b[0mabacate\u001b[0m\u001b[0;34m(\u001b[0m\u001b[0;34m)\u001b[0m\u001b[0;34m\u001b[0m\u001b[0;34m\u001b[0m\u001b[0m\n\u001b[0m",
            "\u001b[0;31mAttributeError\u001b[0m: 'Professor' object has no attribute 'abacate'"
          ]
        }
      ]
    },
    {
      "cell_type": "code",
      "source": [
        "prof.nome"
      ],
      "metadata": {
        "colab": {
          "base_uri": "https://localhost:8080/",
          "height": 35
        },
        "id": "Oww-opym1ygg",
        "outputId": "4fd07ff6-a6ca-41de-a6ff-8a6b1797ab7e"
      },
      "execution_count": null,
      "outputs": [
        {
          "output_type": "execute_result",
          "data": {
            "text/plain": [
              "'João'"
            ],
            "application/vnd.google.colaboratory.intrinsic+json": {
              "type": "string"
            }
          },
          "metadata": {},
          "execution_count": 126
        }
      ]
    },
    {
      "cell_type": "code",
      "source": [
        "isinstance(prof, object)"
      ],
      "metadata": {
        "colab": {
          "base_uri": "https://localhost:8080/"
        },
        "id": "p3PUYI_VWvQt",
        "outputId": "9383b70a-2eb2-4067-b48e-61b8cf6e5614"
      },
      "execution_count": null,
      "outputs": [
        {
          "output_type": "execute_result",
          "data": {
            "text/plain": [
              "True"
            ]
          },
          "metadata": {},
          "execution_count": 137
        }
      ]
    },
    {
      "cell_type": "code",
      "source": [
        "class Funcionario:\n",
        "  pass\n",
        "\n",
        "class Estagiario(Funcionario):\n",
        "  def cadastra_supervisor(self, gerente):\n",
        "    assert not isinstance(gerente, Estagiario)\n",
        "    self.supervisor = gerente\n",
        "\n",
        "\n",
        "class FuncionarioGerente(Funcionario):\n",
        "  pass\n",
        "\n",
        "class Projeto:\n",
        "  def __init__(self):\n",
        "    self.lista_funcionarios = []\n",
        "  def cadastra_funcionario(self, funcionario):\n",
        "    self.lista_funcionarios.append(funcionario)"
      ],
      "metadata": {
        "colab": {
          "base_uri": "https://localhost:8080/",
          "height": 142
        },
        "id": "3Rt9_6qg1yxU",
        "outputId": "ac102546-2333-49fa-ddf4-b05888e11ba5"
      },
      "execution_count": null,
      "outputs": [
        {
          "output_type": "error",
          "ename": "SyntaxError",
          "evalue": "invalid syntax (<ipython-input-34-7353e8e9c2d0>, line 1)",
          "traceback": [
            "\u001b[0;36m  File \u001b[0;32m\"<ipython-input-34-7353e8e9c2d0>\"\u001b[0;36m, line \u001b[0;32m1\u001b[0m\n\u001b[0;31m    Class Funcionario\u001b[0m\n\u001b[0m          ^\u001b[0m\n\u001b[0;31mSyntaxError\u001b[0m\u001b[0;31m:\u001b[0m invalid syntax\n"
          ]
        }
      ]
    },
    {
      "cell_type": "code",
      "source": [
        "class Quadrilatero:\n",
        "  def __init__(self, l1, l2 , l3 ,l4):\n",
        "    self.l1 = l1\n",
        "    self.l2 = l2\n",
        "    self.l3 = l3\n",
        "    self.l4 = l4\n",
        "\n",
        "  def area(self):\n",
        "    return \"dificil\"\n",
        "\n",
        "  def imprime(self):\n",
        "    print(self.l1, self.l2, self.l3, self.l4)\n",
        "\n",
        "class Retangulo(Quadrilatero):\n",
        "  def __init__(self, base, altura):\n",
        "    super().__init__(base, altura, base, altura)\n",
        "\n",
        "  def area(self):\n",
        "    return self.l1 * self.l2\n",
        "\n",
        "\n",
        "class Quadrado(Retangulo):\n",
        "  def __init__(self, lado):\n",
        "    super().__init__(lado, lado)\n",
        "\n",
        "\n",
        "\n"
      ],
      "metadata": {
        "id": "eXF1My4-_Kve"
      },
      "execution_count": null,
      "outputs": []
    },
    {
      "cell_type": "code",
      "source": [
        "q = Quadrilatero(1,2,3,4)\n",
        "r = Retangulo(3,5)\n",
        "qa = Quadrado (6)\n",
        "\n",
        "q.imprime()\n",
        "r.imprime()\n",
        "qa.imprime()\n",
        "\n",
        "\n",
        "print(q.area())\n",
        "print(r.area())\n",
        "print(qa.area())"
      ],
      "metadata": {
        "colab": {
          "base_uri": "https://localhost:8080/"
        },
        "id": "MZqfoXOY_LDw",
        "outputId": "e9e71b9f-c26a-462f-e200-e98e00e7f9b0"
      },
      "execution_count": null,
      "outputs": [
        {
          "output_type": "stream",
          "name": "stdout",
          "text": [
            "1 2 3 4\n",
            "3 5 3 5\n",
            "6 6 6 6\n",
            "dificil\n",
            "15\n",
            "36\n"
          ]
        }
      ]
    },
    {
      "cell_type": "code",
      "source": [],
      "metadata": {
        "id": "uBKtscby_LZz"
      },
      "execution_count": null,
      "outputs": []
    },
    {
      "cell_type": "markdown",
      "source": [
        "### Herança Multipla"
      ],
      "metadata": {
        "id": "TH1M3vapvHPO"
      }
    },
    {
      "cell_type": "code",
      "source": [
        "class Humano:\n",
        "  def __init__(self, nome, tipo_sanguineo):\n",
        "    self.nome = nome\n",
        "    self.tipo_sanguineo = tipo_sanguineo\n",
        "\n",
        "  def fala(self):\n",
        "    print(\"oi\")\n",
        "\n",
        "class Lobo:\n",
        "  def __init__(self,nome, cor_pelo):\n",
        "    self.nome = nome\n",
        "    self.cor_pelo = cor_pelo\n",
        "\n",
        "  def aparar_pelo(self):\n",
        "    print(f\"aparei o pelo cor {self.cor_pelo}\")\n",
        "\n",
        "  def fala(self):\n",
        "    print(\"auuuu\")\n",
        "\n",
        "\n",
        "class Lobisomen(Humano, Lobo):\n",
        "  def __init__(self, nome,tipo_sanguineo, cor_pelo):\n",
        "    super(Lobisomen,self).__init__(nome, tipo_sanguineo)\n",
        "    super(Humano, self).__init__(nome, cor_pelo)\n",
        "\n",
        "  def __str__(self):\n",
        "    return self.nome\n",
        "\n"
      ],
      "metadata": {
        "id": "eViPdloCwKxm"
      },
      "execution_count": null,
      "outputs": []
    },
    {
      "cell_type": "code",
      "source": [
        "lobi = Lobisomen(\"Jacob\", \"O+\", \"cinza\")# Humano(\"Guilherme\", \"A+\"), Lobo(\"Garuromon\", \"cinza\")]"
      ],
      "metadata": {
        "id": "nOx-lzjgKftH"
      },
      "execution_count": null,
      "outputs": []
    },
    {
      "cell_type": "code",
      "source": [
        "Lobisomen.__mro__"
      ],
      "metadata": {
        "colab": {
          "base_uri": "https://localhost:8080/"
        },
        "id": "XsubFn3HGu_S",
        "outputId": "4b515676-3905-4342-e464-8c5cefca4b64"
      },
      "execution_count": null,
      "outputs": [
        {
          "output_type": "execute_result",
          "data": {
            "text/plain": [
              "(__main__.Lobisomen, __main__.Humano, __main__.Lobo, object)"
            ]
          },
          "metadata": {},
          "execution_count": 180
        }
      ]
    },
    {
      "cell_type": "code",
      "source": [
        "l.aparar_pelo()"
      ],
      "metadata": {
        "colab": {
          "base_uri": "https://localhost:8080/"
        },
        "id": "pWdW0kRPHBtq",
        "outputId": "50fb30c1-1aaa-49cb-b12f-889afdfcba5b"
      },
      "execution_count": null,
      "outputs": [
        {
          "output_type": "stream",
          "name": "stdout",
          "text": [
            "aparei o pelo cor cinza\n"
          ]
        }
      ]
    },
    {
      "cell_type": "markdown",
      "source": [
        "## Polimorfismo"
      ],
      "metadata": {
        "id": "zVDui0z9wLcW"
      }
    },
    {
      "cell_type": "markdown",
      "source": [
        " polimorfismo,\n",
        "Classes Abstratas e interfaces\n",
        "ducktyping,\n",
        "sobrecarga\n",
        "parametrico sobrescrição\n"
      ],
      "metadata": {
        "id": "Ybprj6k0wPq9"
      }
    },
    {
      "cell_type": "code",
      "source": [
        "isinstance(lista[0], object)"
      ],
      "metadata": {
        "id": "DrlIwh5qkwkw",
        "colab": {
          "base_uri": "https://localhost:8080/"
        },
        "outputId": "097a07ae-d675-4b66-b1c8-6e68b5b5d665"
      },
      "execution_count": null,
      "outputs": [
        {
          "output_type": "execute_result",
          "data": {
            "text/plain": [
              "True"
            ]
          },
          "metadata": {},
          "execution_count": 137
        }
      ]
    },
    {
      "cell_type": "code",
      "source": [
        "len(lobi)"
      ],
      "metadata": {
        "id": "0uhukM_ZwYtH",
        "colab": {
          "base_uri": "https://localhost:8080/"
        },
        "outputId": "f136ff15-944d-41f2-d2ed-20bbd402bf39"
      },
      "execution_count": null,
      "outputs": [
        {
          "output_type": "execute_result",
          "data": {
            "text/plain": [
              "100"
            ]
          },
          "metadata": {},
          "execution_count": 156
        }
      ]
    },
    {
      "cell_type": "markdown",
      "source": [
        "python magic"
      ],
      "metadata": {
        "id": "KuY-71yxwa2S"
      }
    },
    {
      "cell_type": "code",
      "source": [
        "destrutores, str, repr, operations del"
      ],
      "metadata": {
        "id": "BChFXpFvwc4_"
      },
      "execution_count": null,
      "outputs": []
    },
    {
      "cell_type": "code",
      "source": [
        "lobi = lista[0]"
      ],
      "metadata": {
        "id": "orNlg6CvwpcH"
      },
      "execution_count": null,
      "outputs": []
    },
    {
      "cell_type": "markdown",
      "source": [
        "## Utilizando decorators"
      ],
      "metadata": {
        "id": "zK0rzQq_-q64"
      }
    },
    {
      "cell_type": "code",
      "source": [],
      "metadata": {
        "id": "d28oApYINyHt"
      },
      "execution_count": null,
      "outputs": []
    },
    {
      "cell_type": "code",
      "source": [
        "class A:\n",
        "  @classmethod\n",
        "  def x(cls):\n",
        "    print(cls)"
      ],
      "metadata": {
        "id": "dAOxs4h5NyX5"
      },
      "execution_count": null,
      "outputs": []
    },
    {
      "cell_type": "code",
      "source": [
        "a = A()"
      ],
      "metadata": {
        "id": "e9SplBKeOB2v"
      },
      "execution_count": null,
      "outputs": []
    },
    {
      "cell_type": "code",
      "source": [
        "a.x()"
      ],
      "metadata": {
        "colab": {
          "base_uri": "https://localhost:8080/"
        },
        "id": "2t1diS9TODeS",
        "outputId": "398e7b49-5ba2-42a9-e773-a79919630e85"
      },
      "execution_count": null,
      "outputs": [
        {
          "output_type": "stream",
          "name": "stdout",
          "text": [
            "<class '__main__.A'>\n"
          ]
        }
      ]
    },
    {
      "cell_type": "code",
      "source": [
        "type(A.x)"
      ],
      "metadata": {
        "colab": {
          "base_uri": "https://localhost:8080/"
        },
        "id": "_xPDa0evOGJz",
        "outputId": "a7b327aa-45a1-4a19-efb5-acff5aba849f"
      },
      "execution_count": null,
      "outputs": [
        {
          "output_type": "execute_result",
          "data": {
            "text/plain": [
              "method"
            ]
          },
          "metadata": {},
          "execution_count": 4
        }
      ]
    },
    {
      "cell_type": "code",
      "source": [
        "print(type(type(a.x)))"
      ],
      "metadata": {
        "colab": {
          "base_uri": "https://localhost:8080/"
        },
        "id": "eUgdEsqOOKNY",
        "outputId": "7df2b24f-55ba-49c2-dcec-26547833fb89"
      },
      "execution_count": null,
      "outputs": [
        {
          "output_type": "stream",
          "name": "stdout",
          "text": [
            "<class 'type'>\n"
          ]
        }
      ]
    },
    {
      "cell_type": "code",
      "source": [
        "print(a.x)"
      ],
      "metadata": {
        "colab": {
          "base_uri": "https://localhost:8080/"
        },
        "id": "fHLnqriDOOYS",
        "outputId": "717110ac-054e-4262-9715-682e031e5e9b"
      },
      "execution_count": null,
      "outputs": [
        {
          "output_type": "stream",
          "name": "stdout",
          "text": [
            "<bound method A.x of <class '__main__.A'>>\n"
          ]
        }
      ]
    },
    {
      "cell_type": "code",
      "source": [
        "etho"
      ],
      "metadata": {
        "colab": {
          "base_uri": "https://localhost:8080/",
          "height": 141
        },
        "id": "5vgshHLIOSdi",
        "outputId": "1b8ee9d9-6640-42e5-d47a-11c2d310979b"
      },
      "execution_count": null,
      "outputs": [
        {
          "output_type": "error",
          "ename": "NameError",
          "evalue": "name 'method' is not defined",
          "traceback": [
            "\u001b[0;31m---------------------------------------------------------------------------\u001b[0m",
            "\u001b[0;31mNameError\u001b[0m                                 Traceback (most recent call last)",
            "\u001b[0;32m<ipython-input-9-626525a26b65>\u001b[0m in \u001b[0;36m<cell line: 1>\u001b[0;34m()\u001b[0m\n\u001b[0;32m----> 1\u001b[0;31m \u001b[0mmethod\u001b[0m\u001b[0;34m\u001b[0m\u001b[0;34m\u001b[0m\u001b[0m\n\u001b[0m",
            "\u001b[0;31mNameError\u001b[0m: name 'method' is not defined"
          ]
        }
      ]
    },
    {
      "cell_type": "code",
      "source": [
        "def minha_funcao():\n",
        "  print(\"oi\")"
      ],
      "metadata": {
        "id": "u3sWKwSQOicW"
      },
      "execution_count": null,
      "outputs": []
    },
    {
      "cell_type": "code",
      "source": [
        "def minha_funcao(x, vovo, abacate=10, abacaxi=10, *args):\n",
        "  print(len(args))\n",
        "  print(\"Tchau\", x)"
      ],
      "metadata": {
        "id": "1T4QOyOBXI8G"
      },
      "execution_count": null,
      "outputs": []
    },
    {
      "cell_type": "code",
      "source": [
        "minha_funcao(1,2,3, 2, 3, 4)"
      ],
      "metadata": {
        "colab": {
          "base_uri": "https://localhost:8080/"
        },
        "id": "V3c2DyE4XO6b",
        "outputId": "5c88b472-2f28-48a7-aba2-9cded7db2dd7"
      },
      "execution_count": null,
      "outputs": [
        {
          "output_type": "stream",
          "name": "stdout",
          "text": [
            "2\n",
            "Tchau 1\n"
          ]
        }
      ]
    },
    {
      "cell_type": "code",
      "source": [],
      "metadata": {
        "id": "EyficD8UXRQU"
      },
      "execution_count": null,
      "outputs": []
    }
  ]
}